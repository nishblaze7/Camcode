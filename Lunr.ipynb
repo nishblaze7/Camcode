{
 "cells": [
  {
   "cell_type": "code",
   "execution_count": 2,
   "id": "c0bcd156-d448-49cf-957f-c939ea9fa1b2",
   "metadata": {},
   "outputs": [
    {
     "name": "stdout",
     "output_type": "stream",
     "text": [
      "Collecting pyarrow\n",
      "  Using cached pyarrow-15.0.0-cp312-cp312-macosx_11_0_arm64.whl.metadata (3.0 kB)\n",
      "Requirement already satisfied: numpy<2,>=1.16.6 in /Library/Frameworks/Python.framework/Versions/3.12/lib/python3.12/site-packages (from pyarrow) (1.26.3)\n",
      "Using cached pyarrow-15.0.0-cp312-cp312-macosx_11_0_arm64.whl (24.2 MB)\n",
      "Installing collected packages: pyarrow\n",
      "Successfully installed pyarrow-15.0.0\n",
      "\n",
      "\u001b[1m[\u001b[0m\u001b[34;49mnotice\u001b[0m\u001b[1;39;49m]\u001b[0m\u001b[39;49m A new release of pip is available: \u001b[0m\u001b[31;49m23.3.2\u001b[0m\u001b[39;49m -> \u001b[0m\u001b[32;49m24.0\u001b[0m\n",
      "\u001b[1m[\u001b[0m\u001b[34;49mnotice\u001b[0m\u001b[1;39;49m]\u001b[0m\u001b[39;49m To update, run: \u001b[0m\u001b[32;49mpython3 -m pip install --upgrade pip\u001b[0m\n",
      "Note: you may need to restart the kernel to use updated packages.\n"
     ]
    }
   ],
   "source": [
    "pip install pyarrow\n"
   ]
  },
  {
   "cell_type": "code",
   "execution_count": 2,
   "id": "145c1b31-d6ce-45d8-b985-70dae9cdee79",
   "metadata": {},
   "outputs": [],
   "source": [
    "import pandas as pd\n"
   ]
  },
  {
   "cell_type": "code",
   "execution_count": 5,
   "id": "af65b47e-31d4-4925-91b3-10f295ce767d",
   "metadata": {},
   "outputs": [
    {
     "data": {
      "text/html": [
       "<div>\n",
       "<style scoped>\n",
       "    .dataframe tbody tr th:only-of-type {\n",
       "        vertical-align: middle;\n",
       "    }\n",
       "\n",
       "    .dataframe tbody tr th {\n",
       "        vertical-align: top;\n",
       "    }\n",
       "\n",
       "    .dataframe thead th {\n",
       "        text-align: right;\n",
       "    }\n",
       "</style>\n",
       "<table border=\"1\" class=\"dataframe\">\n",
       "  <thead>\n",
       "    <tr style=\"text-align: right;\">\n",
       "      <th></th>\n",
       "      <th>text</th>\n",
       "      <th>label</th>\n",
       "      <th>idx</th>\n",
       "    </tr>\n",
       "  </thead>\n",
       "  <tbody>\n",
       "    <tr>\n",
       "      <th>20171</th>\n",
       "      <td>now, i want you to play the next song</td>\n",
       "      <td>next_song</td>\n",
       "      <td>20171</td>\n",
       "    </tr>\n",
       "    <tr>\n",
       "      <th>15816</th>\n",
       "      <td>would i need a travel visa to go to the congo</td>\n",
       "      <td>international_visa</td>\n",
       "      <td>15816</td>\n",
       "    </tr>\n",
       "    <tr>\n",
       "      <th>17953</th>\n",
       "      <td>what is the amount of gas left</td>\n",
       "      <td>gas</td>\n",
       "      <td>17953</td>\n",
       "    </tr>\n",
       "  </tbody>\n",
       "</table>\n",
       "</div>"
      ],
      "text/plain": [
       "                                                text               label  \\\n",
       "20171          now, i want you to play the next song           next_song   \n",
       "15816  would i need a travel visa to go to the congo  international_visa   \n",
       "17953                 what is the amount of gas left                 gas   \n",
       "\n",
       "         idx  \n",
       "20171  20171  \n",
       "15816  15816  \n",
       "17953  17953  "
      ]
     },
     "execution_count": 5,
     "metadata": {},
     "output_type": "execute_result"
    }
   ],
   "source": [
    "import pandas as pd\n",
    "\n",
    "df = pd.read_csv(\"clinc.csv\").assign(idx=lambda d: d.index)\n",
    "df.sample(3)\n",
    "\n"
   ]
  },
  {
   "cell_type": "code",
   "execution_count": 6,
   "id": "e3b82f89-ede2-4e5d-a062-703f51b95f4a",
   "metadata": {},
   "outputs": [],
   "source": [
    "documents = df.to_dict(orient=\"records\")\n"
   ]
  },
  {
   "cell_type": "code",
   "execution_count": 8,
   "id": "fbfad6eb-21d1-4c6c-b182-529e3ad79c37",
   "metadata": {},
   "outputs": [
    {
     "name": "stdout",
     "output_type": "stream",
     "text": [
      "Collecting lunr\n",
      "  Downloading lunr-0.7.0.post1-py3-none-any.whl.metadata (6.8 kB)\n",
      "Downloading lunr-0.7.0.post1-py3-none-any.whl (35 kB)\n",
      "Installing collected packages: lunr\n",
      "Successfully installed lunr-0.7.0.post1\n",
      "\n",
      "\u001b[1m[\u001b[0m\u001b[34;49mnotice\u001b[0m\u001b[1;39;49m]\u001b[0m\u001b[39;49m A new release of pip is available: \u001b[0m\u001b[31;49m23.3.2\u001b[0m\u001b[39;49m -> \u001b[0m\u001b[32;49m24.0\u001b[0m\n",
      "\u001b[1m[\u001b[0m\u001b[34;49mnotice\u001b[0m\u001b[1;39;49m]\u001b[0m\u001b[39;49m To update, run: \u001b[0m\u001b[32;49mpython3 -m pip install --upgrade pip\u001b[0m\n",
      "Note: you may need to restart the kernel to use updated packages.\n"
     ]
    }
   ],
   "source": [
    "pip install lunr"
   ]
  },
  {
   "cell_type": "code",
   "execution_count": 24,
   "id": "e7f91966-a22a-4185-aaa1-d0e3d055ae96",
   "metadata": {},
   "outputs": [],
   "source": [
    "from lunr import lunr\n",
    "\n",
    "idx = lunr(ref='idx', fields=('text',), documents=documents)\n"
   ]
  },
  {
   "cell_type": "code",
   "execution_count": 11,
   "id": "9b3c820f-e6e0-4a3b-9d45-485d66710f77",
   "metadata": {},
   "outputs": [
    {
     "data": {
      "text/plain": [
       "[{'ref': '4501', 'score': 7.801, 'match_data': <MatchData \"spanish\">},\n",
       " {'ref': '3', 'score': 7.62, 'match_data': <MatchData \"spanish\">},\n",
       " {'ref': '26', 'score': 7.62, 'match_data': <MatchData \"spanish\">},\n",
       " {'ref': '27', 'score': 7.62, 'match_data': <MatchData \"spanish\">},\n",
       " {'ref': '28', 'score': 7.62, 'match_data': <MatchData \"spanish\">},\n",
       " {'ref': '4526', 'score': 7.62, 'match_data': <MatchData \"spanish\">},\n",
       " {'ref': '4529', 'score': 7.62, 'match_data': <MatchData \"spanish\">},\n",
       " {'ref': '4556', 'score': 7.62, 'match_data': <MatchData \"spanish\">},\n",
       " {'ref': '4573', 'score': 7.62, 'match_data': <MatchData \"spanish\">},\n",
       " {'ref': '4575', 'score': 7.62, 'match_data': <MatchData \"spanish\">},\n",
       " {'ref': '4576', 'score': 7.62, 'match_data': <MatchData \"spanish\">},\n",
       " {'ref': '4585', 'score': 7.62, 'match_data': <MatchData \"spanish\">},\n",
       " {'ref': '5638', 'score': 7.62, 'match_data': <MatchData \"spanish\">},\n",
       " {'ref': '19505', 'score': 7.62, 'match_data': <MatchData \"spanish\">},\n",
       " {'ref': '19507', 'score': 7.62, 'match_data': <MatchData \"spanish\">},\n",
       " {'ref': '25', 'score': 6.767, 'match_data': <MatchData \"spanish\">},\n",
       " {'ref': '334', 'score': 6.767, 'match_data': <MatchData \"spanish\">},\n",
       " {'ref': '342', 'score': 6.767, 'match_data': <MatchData \"spanish\">},\n",
       " {'ref': '348', 'score': 6.767, 'match_data': <MatchData \"spanish\">},\n",
       " {'ref': '350', 'score': 6.767, 'match_data': <MatchData \"spanish\">},\n",
       " {'ref': '4546', 'score': 6.767, 'match_data': <MatchData \"spanish\">},\n",
       " {'ref': '4550', 'score': 6.767, 'match_data': <MatchData \"spanish\">},\n",
       " {'ref': '4559', 'score': 6.767, 'match_data': <MatchData \"spanish\">},\n",
       " {'ref': '4574', 'score': 6.767, 'match_data': <MatchData \"spanish\">},\n",
       " {'ref': '4577', 'score': 6.767, 'match_data': <MatchData \"spanish\">},\n",
       " {'ref': '4579', 'score': 6.767, 'match_data': <MatchData \"spanish\">},\n",
       " {'ref': '4595', 'score': 6.767, 'match_data': <MatchData \"spanish\">},\n",
       " {'ref': '4598', 'score': 6.767, 'match_data': <MatchData \"spanish\">},\n",
       " {'ref': '5619', 'score': 6.767, 'match_data': <MatchData \"spanish\">},\n",
       " {'ref': '5627', 'score': 6.767, 'match_data': <MatchData \"spanish\">},\n",
       " {'ref': '5639', 'score': 6.767, 'match_data': <MatchData \"spanish\">},\n",
       " {'ref': '5640', 'score': 6.767, 'match_data': <MatchData \"spanish\">},\n",
       " {'ref': '5644', 'score': 6.767, 'match_data': <MatchData \"spanish\">},\n",
       " {'ref': '5654', 'score': 6.767, 'match_data': <MatchData \"spanish\">},\n",
       " {'ref': '5672', 'score': 6.767, 'match_data': <MatchData \"spanish\">},\n",
       " {'ref': '19500', 'score': 6.767, 'match_data': <MatchData \"spanish\">},\n",
       " {'ref': '1', 'score': 6.085, 'match_data': <MatchData \"spanish\">},\n",
       " {'ref': '12', 'score': 6.085, 'match_data': <MatchData \"spanish\">},\n",
       " {'ref': '29', 'score': 6.085, 'match_data': <MatchData \"spanish\">},\n",
       " {'ref': '343', 'score': 6.085, 'match_data': <MatchData \"spanish\">},\n",
       " {'ref': '4510', 'score': 6.085, 'match_data': <MatchData \"spanish\">},\n",
       " {'ref': '4527', 'score': 6.085, 'match_data': <MatchData \"spanish\">},\n",
       " {'ref': '4543', 'score': 6.085, 'match_data': <MatchData \"spanish\">},\n",
       " {'ref': '4592', 'score': 6.085, 'match_data': <MatchData \"spanish\">},\n",
       " {'ref': '5604', 'score': 6.085, 'match_data': <MatchData \"spanish\">},\n",
       " {'ref': '5618', 'score': 6.085, 'match_data': <MatchData \"spanish\">},\n",
       " {'ref': '5621', 'score': 6.085, 'match_data': <MatchData \"spanish\">},\n",
       " {'ref': '5625', 'score': 6.085, 'match_data': <MatchData \"spanish\">},\n",
       " {'ref': '5647', 'score': 6.085, 'match_data': <MatchData \"spanish\">},\n",
       " {'ref': '5664', 'score': 6.085, 'match_data': <MatchData \"spanish\">},\n",
       " {'ref': '18182', 'score': 6.085, 'match_data': <MatchData \"spanish\">},\n",
       " {'ref': '19517', 'score': 6.085, 'match_data': <MatchData \"spanish\">},\n",
       " {'ref': '19727', 'score': 6.085, 'match_data': <MatchData \"spanish\">},\n",
       " {'ref': '5611', 'score': 5.528, 'match_data': <MatchData \"spanish\">},\n",
       " {'ref': '5692', 'score': 5.528, 'match_data': <MatchData \"spanish\">},\n",
       " {'ref': '5697', 'score': 5.528, 'match_data': <MatchData \"spanish\">},\n",
       " {'ref': '19726', 'score': 5.065, 'match_data': <MatchData \"spanish\">}]"
      ]
     },
     "execution_count": 11,
     "metadata": {},
     "output_type": "execute_result"
    }
   ],
   "source": [
    "index.search('spanish')\n",
    "# [{'ref': '4501', 'score': 7.801, 'match_data': <MatchData \"spanish\">},\n",
    "#  {'ref': '3', 'score': 7.62, 'match_data': <MatchData \"spanish\">},\n",
    "#  {'ref': '26', 'score': 7.62, 'match_data': <MatchData \"spanish\">},\n",
    "#  ...\n",
    "#  {'ref': '19726', 'score': 5.065, 'match_data': <MatchData \"spanish\">}]\n"
   ]
  },
  {
   "cell_type": "code",
   "execution_count": 12,
   "id": "4b0b62e6-b34c-40a6-a6d3-90732dc17419",
   "metadata": {},
   "outputs": [
    {
     "data": {
      "text/plain": [
       "[{'text': \"can you tell me how to say 'i do not speak much spanish', in spanish\",\n",
       "  'label': 'translate',\n",
       "  'idx': 4501},\n",
       " {'text': 'how do you say fast in spanish', 'label': 'translate', 'idx': 3},\n",
       " {'text': 'what is dog in spanish', 'label': 'translate', 'idx': 26},\n",
       " {'text': 'how do you say dog in spanish', 'label': 'translate', 'idx': 27},\n",
       " {'text': 'dog in spanish', 'label': 'translate', 'idx': 28},\n",
       " {'text': 'how can i say not now in spanish',\n",
       "  'label': 'translate',\n",
       "  'idx': 4526},\n",
       " {'text': 'how do you say goodbye in spanish',\n",
       "  'label': 'translate',\n",
       "  'idx': 4529},\n",
       " {'text': 'what is spanish for hello', 'label': 'translate', 'idx': 4556},\n",
       " {'text': 'how do you say thank you in spanish',\n",
       "  'label': 'translate',\n",
       "  'idx': 4573},\n",
       " {'text': 'how can i say thank you in spanish',\n",
       "  'label': 'translate',\n",
       "  'idx': 4575},\n",
       " {'text': 'what is thank you in spanish', 'label': 'translate', 'idx': 4576},\n",
       " {'text': 'how do you say cat in spanish', 'label': 'translate', 'idx': 4585},\n",
       " {'text': 'can you talk in spanish', 'label': 'change_language', 'idx': 5638},\n",
       " {'text': 'how do i say dinner in spanish',\n",
       "  'label': 'translate',\n",
       "  'idx': 19505},\n",
       " {'text': 'how do i say thank you in spanish',\n",
       "  'label': 'translate',\n",
       "  'idx': 19507},\n",
       " {'text': 'english to spanish for dog', 'label': 'translate', 'idx': 25},\n",
       " {'text': 'speak spanish please', 'label': 'change_language', 'idx': 334},\n",
       " {'text': 'i want to use spanish with you',\n",
       "  'label': 'change_language',\n",
       "  'idx': 342},\n",
       " {'text': \"i'd like the language to be in spanish\",\n",
       "  'label': 'change_language',\n",
       "  'idx': 348},\n",
       " {'text': 'can i speak spanish to you hombre',\n",
       "  'label': 'change_language',\n",
       "  'idx': 350},\n",
       " {'text': 'what is the word for hello spanish',\n",
       "  'label': 'translate',\n",
       "  'idx': 4546},\n",
       " {'text': 'tell me how to say hello in spanish',\n",
       "  'label': 'translate',\n",
       "  'idx': 4550},\n",
       " {'text': 'what is spanish for good morning',\n",
       "  'label': 'translate',\n",
       "  'idx': 4559},\n",
       " {'text': 'how does one say thank you in spanish',\n",
       "  'label': 'translate',\n",
       "  'idx': 4574},\n",
       " {'text': 'what is the way to say thank you in spanish',\n",
       "  'label': 'translate',\n",
       "  'idx': 4577},\n",
       " {'text': 'how do they say \"where\\'s the bathroom\" in spanish',\n",
       "  'label': 'translate',\n",
       "  'idx': 4579},\n",
       " {'text': 'can you translate hi into spanish for me',\n",
       "  'label': 'translate',\n",
       "  'idx': 4595},\n",
       " {'text': 'can you translate milk into spanish for me',\n",
       "  'label': 'translate',\n",
       "  'idx': 4598},\n",
       " {'text': 'fix my language to spanish',\n",
       "  'label': 'change_language',\n",
       "  'idx': 5619},\n",
       " {'text': 'please respond to me in spanish',\n",
       "  'label': 'change_language',\n",
       "  'idx': 5627},\n",
       " {'text': 'can i start talking to you in spanish',\n",
       "  'label': 'change_language',\n",
       "  'idx': 5639},\n",
       " {'text': 'please talk to me in spanish',\n",
       "  'label': 'change_language',\n",
       "  'idx': 5640},\n",
       " {'text': 'talk to me in spanish from now on',\n",
       "  'label': 'change_language',\n",
       "  'idx': 5644},\n",
       " {'text': 'is it possible to only talk in spanish',\n",
       "  'label': 'change_language',\n",
       "  'idx': 5654},\n",
       " {'text': 'start talking in spanish', 'label': 'change_language', 'idx': 5672},\n",
       " {'text': 'in spanish, meet me tomorrow is said how',\n",
       "  'label': 'translate',\n",
       "  'idx': 19500},\n",
       " {'text': \"what's the spanish word for pasta\", 'label': 'translate', 'idx': 1},\n",
       " {'text': 'what is the right way to say excuse me in spanish',\n",
       "  'label': 'translate',\n",
       "  'idx': 12},\n",
       " {'text': \"what's the spanish word for dog\", 'label': 'translate', 'idx': 29},\n",
       " {'text': \"please let's speak in spanish\",\n",
       "  'label': 'change_language',\n",
       "  'idx': 343},\n",
       " {'text': \"how would i say, 'i don't know the answer' in spanish\",\n",
       "  'label': 'translate',\n",
       "  'idx': 4510},\n",
       " {'text': 'what do spanish people say for the word cow',\n",
       "  'label': 'translate',\n",
       "  'idx': 4527},\n",
       " {'text': 'what spanish word means hello', 'label': 'translate', 'idx': 4543},\n",
       " {'text': 'i wanna know a phrase in spanish',\n",
       "  'label': 'translate',\n",
       "  'idx': 4592},\n",
       " {'text': 'i would like to have language set to spanish, please',\n",
       "  'label': 'change_language',\n",
       "  'idx': 5604},\n",
       " {'text': 'i need to change language to spanish',\n",
       "  'label': 'change_language',\n",
       "  'idx': 5618},\n",
       " {'text': 'i need to change my speaking to spanish',\n",
       "  'label': 'change_language',\n",
       "  'idx': 5621},\n",
       " {'text': 'change your language to spanish please',\n",
       "  'label': 'change_language',\n",
       "  'idx': 5625},\n",
       " {'text': 'i want to use spanish as my language',\n",
       "  'label': 'change_language',\n",
       "  'idx': 5647},\n",
       " {'text': 'let’s chat using spanish', 'label': 'change_language', 'idx': 5664},\n",
       " {'text': 'add mia to my spanish playlist',\n",
       "  'label': 'update_playlist',\n",
       "  'idx': 18182},\n",
       " {'text': 'can you translate this name into spanish for me, please',\n",
       "  'label': 'translate',\n",
       "  'idx': 19517},\n",
       " {'text': 'change your language setting to spanish',\n",
       "  'label': 'change_language',\n",
       "  'idx': 19727},\n",
       " {'text': 'i want us to speak to each other in spanish from now on',\n",
       "  'label': 'change_language',\n",
       "  'idx': 5611},\n",
       " {'text': 'can you start talking to me in spanish from here on out',\n",
       "  'label': 'change_language',\n",
       "  'idx': 5692},\n",
       " {'text': 'please change your language setting to spanish',\n",
       "  'label': 'change_language',\n",
       "  'idx': 5697},\n",
       " {'text': 'please change your language setting to spanish now',\n",
       "  'label': 'change_language',\n",
       "  'idx': 19726}]"
      ]
     },
     "execution_count": 12,
     "metadata": {},
     "output_type": "execute_result"
    }
   ],
   "source": [
    "[documents[int(i['ref'])] for i in index.search('spanish')]\n",
    "# [{'text': \"can you tell me how to say 'i do not speak much spanish', in spanish\",\n",
    "#  'label': 'translate',\n",
    "#  'idx': 4501},\n",
    "# {'text': 'how do you say fast in spanish', 'label': 'translate', 'idx': 3},\n",
    "# {'text': 'what is dog in spanish', 'label': 'translate', 'idx': 26},\n",
    "# ...\n",
    "# {'text': 'please change your language setting to spanish now',\n",
    "#  'label': 'change_language',\n",
    "#  'idx': 19726}]\n"
   ]
  },
  {
   "cell_type": "code",
   "execution_count": 27,
   "id": "a7021054-ef1f-4298-a7ca-fa6e4b3267d9",
   "metadata": {},
   "outputs": [
    {
     "data": {
      "text/plain": [
       "[{'ref': '11998', 'score': 9.056, 'match_data': <MatchData \"plant\">},\n",
       " {'ref': '9435', 'score': 8.144, 'match_data': <MatchData \"plant\">},\n",
       " {'ref': '2097', 'score': 7.399, 'match_data': <MatchData \"plant\">},\n",
       " {'ref': '9433', 'score': 7.399, 'match_data': <MatchData \"plant\">},\n",
       " {'ref': '23246', 'score': 7.399, 'match_data': <MatchData \"plant\">},\n",
       " {'ref': '9439', 'score': 6.778, 'match_data': <MatchData \"plant\">},\n",
       " {'ref': '19441', 'score': 6.254, 'match_data': <MatchData \"plant\">}]"
      ]
     },
     "execution_count": 27,
     "metadata": {},
     "output_type": "execute_result"
    }
   ],
   "source": [
    "import json\n",
    "from lunr.index import Index\n",
    "\n",
    "serialized = idx.serialize()\n",
    "\n",
    "with open('idx.json', 'w') as fd:\n",
    "    json.dump(serialized, fd)\n",
    "\n",
    "# Load it again\n",
    "with open(\"idx.json\") as fd:\n",
    "    reloaded = json.loads(fd.read())\n",
    "\n",
    "idx = Index.load(reloaded)\n",
    "idx.search(\"plant\")"
   ]
  },
  {
   "cell_type": "code",
   "execution_count": 29,
   "id": "7e25a120-83a6-427f-bcca-b84369fdc228",
   "metadata": {},
   "outputs": [
    {
     "name": "stdout",
     "output_type": "stream",
     "text": [
      "3.75 ms ± 127 µs per loop (mean ± std. dev. of 7 runs, 100 loops each)\n",
      "1.29 ms ± 26.6 µs per loop (mean ± std. dev. of 7 runs, 1,000 loops each)\n",
      "209 µs ± 2.86 µs per loop (mean ± std. dev. of 7 runs, 1,000 loops each)\n",
      "212 µs ± 1.46 µs per loop (mean ± std. dev. of 7 runs, 1,000 loops each)\n"
     ]
    }
   ],
   "source": [
    "%timeit df.loc[lambda d: d['text'].str.contains(\"spanish\")]\n",
    "# 4.79 ms ± 37 µs per loop (mean ± std. dev. of 7 runs, 100 loops each)\n",
    "\n",
    "%timeit [d for d in documents if 'spanish' in d['text']]\n",
    "# 1.86 ms ± 32.9 µs per loop (mean ± std. dev. of 7 runs, 100 loops each)\n",
    "\n",
    "%timeit index.search('spanish')\n",
    "# 304 µs ± 1.85 µs per loop (mean ± std. dev. of 7 runs, 1,000 loops each)\n",
    "\n",
    "%timeit [documents[int(i['ref'])] for i in index.search('spanish')]\n",
    "# 309 µs ± 1.2 µs per loop (mean ± std. dev. of 7 runs, 1,000 loops each)\n"
   ]
  },
  {
   "cell_type": "code",
   "execution_count": 30,
   "id": "1e73ae4c-6831-4479-99b4-326f73825e24",
   "metadata": {},
   "outputs": [
    {
     "ename": "SyntaxError",
     "evalue": "invalid syntax (2830201818.py, line 1)",
     "output_type": "error",
     "traceback": [
      "\u001b[0;36m  Cell \u001b[0;32mIn[30], line 1\u001b[0;36m\u001b[0m\n\u001b[0;31m    git init\u001b[0m\n\u001b[0m        ^\u001b[0m\n\u001b[0;31mSyntaxError\u001b[0m\u001b[0;31m:\u001b[0m invalid syntax\n"
     ]
    }
   ],
   "source": []
  }
 ],
 "metadata": {
  "kernelspec": {
   "display_name": "Python 3 (ipykernel)",
   "language": "python",
   "name": "python3"
  },
  "language_info": {
   "codemirror_mode": {
    "name": "ipython",
    "version": 3
   },
   "file_extension": ".py",
   "mimetype": "text/x-python",
   "name": "python",
   "nbconvert_exporter": "python",
   "pygments_lexer": "ipython3",
   "version": "3.12.1"
  }
 },
 "nbformat": 4,
 "nbformat_minor": 5
}
